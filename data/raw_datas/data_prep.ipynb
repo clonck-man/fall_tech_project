{
 "cells": [
  {
   "cell_type": "code",
   "execution_count": 24,
   "metadata": {},
   "outputs": [],
   "source": [
    "import pandas as pd\n",
    "\n",
    "import re\n",
    "\n",
    "import nltk\n",
    "from nltk.corpus import stopwords\n",
    "from nltk.tokenize import word_tokenize\n",
    "from nltk.stem import WordNetLemmatizer\n",
    "from sklearn.feature_extraction.text import TfidfVectorizer\n",
    "\n",
    "import json"
   ]
  },
  {
   "cell_type": "code",
   "execution_count": 25,
   "metadata": {},
   "outputs": [
    {
     "name": "stderr",
     "output_type": "stream",
     "text": [
      "[nltk_data] Downloading package punkt to\n",
      "[nltk_data]     C:\\Users\\meria\\AppData\\Roaming\\nltk_data...\n",
      "[nltk_data]   Package punkt is already up-to-date!\n",
      "[nltk_data] Downloading package stopwords to\n",
      "[nltk_data]     C:\\Users\\meria\\AppData\\Roaming\\nltk_data...\n",
      "[nltk_data]   Package stopwords is already up-to-date!\n",
      "[nltk_data] Downloading package wordnet to\n",
      "[nltk_data]     C:\\Users\\meria\\AppData\\Roaming\\nltk_data...\n",
      "[nltk_data]   Package wordnet is already up-to-date!\n"
     ]
    },
    {
     "data": {
      "text/plain": [
       "True"
      ]
     },
     "execution_count": 25,
     "metadata": {},
     "output_type": "execute_result"
    }
   ],
   "source": [
    "nltk.download('punkt')\n",
    "nltk.download('stopwords')\n",
    "nltk.download('wordnet')"
   ]
  },
  {
   "cell_type": "code",
   "execution_count": 26,
   "metadata": {},
   "outputs": [],
   "source": [
    "df_actors = pd.read_csv(\"actors_top500_final.csv\")\n",
    "df_movies = pd.read_csv(\"movies_details_top500_final.csv\")\n",
    "df_real = pd.read_csv(\"realisators_top500_final.csv\")"
   ]
  },
  {
   "cell_type": "code",
   "execution_count": 27,
   "metadata": {},
   "outputs": [],
   "source": [
    "def preprocess_text(text):\n",
    "    try:\n",
    "        text = re.sub('[^a-zA-Z0-9\\s]', '', text)\n",
    "        text = text.lower()\n",
    "        tokens = word_tokenize(text)\n",
    "        tokens = [word for word in tokens if len(word) > 2 and word.isalnum() and word not in stopwords.words('english') and word != '']\n",
    "        lemmatizer = WordNetLemmatizer()\n",
    "        tokens = [lemmatizer.lemmatize(word) for word in tokens]\n",
    "        return ' '.join(tokens)\n",
    "    except Exception as e:\n",
    "        print(f\"Une erreur s'est produite : {e}\")\n",
    "        return ''\n",
    "\n",
    "\n",
    "def extract_tags(descriptions, min_df=5):\n",
    "    preprocessed_descriptions = [preprocess_text(description) for description in descriptions]\n",
    "\n",
    "    tfidf_vectorizer = TfidfVectorizer(ngram_range=(1, 3), min_df=min_df)\n",
    "    tfidf_matrix = tfidf_vectorizer.fit_transform(preprocessed_descriptions)\n",
    "\n",
    "    tags = tfidf_vectorizer.get_feature_names_out()\n",
    "\n",
    "    return tags, tfidf_matrix"
   ]
  },
  {
   "cell_type": "markdown",
   "metadata": {},
   "source": [
    "# movie"
   ]
  },
  {
   "cell_type": "code",
   "execution_count": 28,
   "metadata": {},
   "outputs": [],
   "source": [
    "df_movies_drops = [\"adult\", \"backdrop_path\", \"original_language\", \"original_title\", \"video\", \"overview\"]\n",
    "df_movies_bis = df_movies.drop(columns=df_movies_drops)"
   ]
  },
  {
   "cell_type": "code",
   "execution_count": 29,
   "metadata": {},
   "outputs": [
    {
     "name": "stdout",
     "output_type": "stream",
     "text": [
      "         id                               title  \\\n",
      "0       278            The Shawshank Redemption   \n",
      "1       238                       The Godfather   \n",
      "2       240               The Godfather Part II   \n",
      "3       424                    Schindler's List   \n",
      "4       389                        12 Angry Men   \n",
      "..      ...                                 ...   \n",
      "495     631       Sunrise: A Song of Two Humans   \n",
      "496      89  Indiana Jones and the Last Crusade   \n",
      "497  579245                        The Specials   \n",
      "498  546554                          Knives Out   \n",
      "499    5924                            Papillon   \n",
      "\n",
      "                          poster_path  \n",
      "0    /q6y0Go1tsGEsmtFryDOJo3dEmqu.jpg  \n",
      "1    /3bhkrj58Vtu7enYsRolD1fZdja1.jpg  \n",
      "2    /hek3koDUyRQk7FIhPXsa6mT2Zc3.jpg  \n",
      "3    /sF1U4EUQS8YHUYjNl3pMGNIQyr0.jpg  \n",
      "4    /ow3wq89wM8qd5X7hWKxiRfsFf9C.jpg  \n",
      "..                                ...  \n",
      "495  /oj8ZW8jKXBSs8F1e5iWsTUeXSJW.jpg  \n",
      "496  /sizg1AU8f8JDZX4QIgE4pjUMBvx.jpg  \n",
      "497  /zJziqrnSOzKiV0TrNVZ3AS0NMKI.jpg  \n",
      "498  /pThyQovXQrw2m0s9x82twj48Jq4.jpg  \n",
      "499  /356oqQpug682OERsWV0bGZ0YxwQ.jpg  \n",
      "\n",
      "[500 rows x 3 columns]\n"
     ]
    }
   ],
   "source": [
    "col_app = [\"id\", \"title\", \"poster_path\"]\n",
    "df_movies_app = df_movies_bis.loc[:, col_app]\n",
    "\n",
    "print(df_movies_app)\n",
    "\n",
    "df_movies_app.to_csv('../data/clean_datas/movies_app.csv', index=False)"
   ]
  },
  {
   "cell_type": "markdown",
   "metadata": {},
   "source": [
    "# tags"
   ]
  },
  {
   "cell_type": "code",
   "execution_count": 30,
   "metadata": {},
   "outputs": [
    {
     "name": "stdout",
     "output_type": "stream",
     "text": [
      "il y a 537 tags\n"
     ]
    }
   ],
   "source": [
    "tags, tfidf_matrix = extract_tags(df_movies[\"overview\"])\n",
    "\n",
    "print(f\"il y a {len(tags)} tags\")"
   ]
  },
  {
   "cell_type": "code",
   "execution_count": 31,
   "metadata": {},
   "outputs": [],
   "source": [
    "dict_tag = {}\n",
    "for i, description in enumerate(df_movies[\"overview\"]):\n",
    "    id = int(df_movies[\"title\"].iloc[i])\n",
    "    dict_tag[id] = [tags[j] for j in tfidf_matrix[i].indices]"
   ]
  },
  {
   "cell_type": "code",
   "execution_count": 40,
   "metadata": {},
   "outputs": [],
   "source": [
    "with open('../data/clean_datas/movies_tags.json', 'w') as f:\n",
    "    json.dump(dict_tag, f)"
   ]
  },
  {
   "cell_type": "markdown",
   "metadata": {},
   "source": [
    "# reals_actors"
   ]
  },
  {
   "cell_type": "code",
   "execution_count": 33,
   "metadata": {},
   "outputs": [],
   "source": [
    "actor_matrix = df_actors.set_index(\"Actor\")\n",
    "actor_matrix.index.name = None\n",
    "actor_matrix = actor_matrix.T\n",
    "actor_matrix = actor_matrix.set_index(actor_matrix.index.astype(int)).sort_index()"
   ]
  },
  {
   "cell_type": "code",
   "execution_count": 34,
   "metadata": {},
   "outputs": [
    {
     "name": "stdout",
     "output_type": "stream",
     "text": [
      "         Tim Robbins  Morgan Freeman  Bob Gunton  William Sadler  \\\n",
      "11                 0               0           0               0   \n",
      "13                 0               0           0               0   \n",
      "14                 0               0           0               0   \n",
      "15                 0               0           0               0   \n",
      "16                 0               0           0               0   \n",
      "...              ...             ...         ...             ...   \n",
      "1000492            0               0           0               0   \n",
      "1002185            0               0           0               0   \n",
      "1010581            0               0           0               0   \n",
      "1026227            0               0           0               0   \n",
      "1139087            0               0           0               0   \n",
      "\n",
      "         Clancy Brown  Gil Bellows  James Whitmore  Mark Rolston  \\\n",
      "11                  0            0               0             0   \n",
      "13                  0            0               0             0   \n",
      "14                  0            0               0             0   \n",
      "15                  0            0               0             0   \n",
      "16                  0            0               0             0   \n",
      "...               ...          ...             ...           ...   \n",
      "1000492             0            0               0             0   \n",
      "1002185             0            0               0             0   \n",
      "1010581             0            0               0             0   \n",
      "1026227             0            0               0             0   \n",
      "1139087             0            0               0             0   \n",
      "\n",
      "         Jeffrey DeMunn  Larry Brandenburg  ...  Barbara Morrison  Don Hanmer  \\\n",
      "11                    0                  0  ...                 0           0   \n",
      "13                    0                  0  ...                 0           0   \n",
      "14                    0                  0  ...                 0           0   \n",
      "15                    0                  0  ...                 0           0   \n",
      "16                    0                  0  ...                 0           0   \n",
      "...                 ...                ...  ...               ...         ...   \n",
      "1000492               0                  0  ...                 0           0   \n",
      "1002185               0                  0  ...                 0           0   \n",
      "1010581               0                  0  ...                 0           0   \n",
      "1026227               0                  0  ...                 0           0   \n",
      "1139087               0                  0  ...                 0           0   \n",
      "\n",
      "         E.J. André  Richard Angarola  Jack Denbo  Len Lesser  Fred Sadoff  \\\n",
      "11                0                 0           0           0            0   \n",
      "13                0                 0           0           0            0   \n",
      "14                0                 0           0           0            0   \n",
      "15                0                 0           0           0            0   \n",
      "16                0                 0           0           0            0   \n",
      "...             ...               ...         ...         ...          ...   \n",
      "1000492           0                 0           0           0            0   \n",
      "1002185           0                 0           0           0            0   \n",
      "1010581           0                 0           0           0            0   \n",
      "1026227           0                 0           0           0            0   \n",
      "1139087           0                 0           0           0            0   \n",
      "\n",
      "         Allen Jaffe  Anne Byrne Hoffman  Dalton Trumbo  \n",
      "11                 0                   0              0  \n",
      "13                 0                   0              0  \n",
      "14                 0                   0              0  \n",
      "15                 0                   0              0  \n",
      "16                 0                   0              0  \n",
      "...              ...                 ...            ...  \n",
      "1000492            0                   0              0  \n",
      "1002185            0                   0              0  \n",
      "1010581            0                   0              0  \n",
      "1026227            0                   0              0  \n",
      "1139087            0                   0              0  \n",
      "\n",
      "[497 rows x 17355 columns]\n"
     ]
    }
   ],
   "source": [
    "print(actor_matrix)"
   ]
  },
  {
   "cell_type": "code",
   "execution_count": 35,
   "metadata": {},
   "outputs": [],
   "source": [
    "real_matrix = df_real.set_index(\"Realisator\")\n",
    "real_matrix.index.name = None\n",
    "real_matrix = real_matrix.T\n",
    "real_matrix = real_matrix.set_index(real_matrix.index.astype(int)).sort_index()\n",
    "real_matrix = real_matrix.add_suffix(' as real')"
   ]
  },
  {
   "cell_type": "code",
   "execution_count": 36,
   "metadata": {},
   "outputs": [
    {
     "name": "stdout",
     "output_type": "stream",
     "text": [
      "         Frank Darabont as real  Francis Ford Coppola as real  \\\n",
      "11                            0                             0   \n",
      "13                            0                             0   \n",
      "14                            0                             0   \n",
      "15                            0                             0   \n",
      "16                            0                             0   \n",
      "...                         ...                           ...   \n",
      "1000492                       0                             0   \n",
      "1002185                       0                             0   \n",
      "1010581                       0                             0   \n",
      "1026227                       0                             0   \n",
      "1139087                       0                             0   \n",
      "\n",
      "         Steven Spielberg as real  Sidney Lumet as real  \\\n",
      "11                              0                     0   \n",
      "13                              0                     0   \n",
      "14                              0                     0   \n",
      "15                              0                     0   \n",
      "16                              0                     0   \n",
      "...                           ...                   ...   \n",
      "1000492                         0                     0   \n",
      "1002185                         0                     0   \n",
      "1010581                         0                     0   \n",
      "1026227                         0                     0   \n",
      "1139087                         0                     0   \n",
      "\n",
      "         Hayao Miyazaki as real  Aditya Chopra as real  \\\n",
      "11                            0                      0   \n",
      "13                            0                      0   \n",
      "14                            0                      0   \n",
      "15                            0                      0   \n",
      "16                            0                      0   \n",
      "...                         ...                    ...   \n",
      "1000492                       0                      0   \n",
      "1002185                       0                      0   \n",
      "1010581                       0                      0   \n",
      "1026227                       0                      0   \n",
      "1139087                       0                      0   \n",
      "\n",
      "         Christopher Nolan as real  Bong Joon-ho as real  \\\n",
      "11                               0                     0   \n",
      "13                               0                     0   \n",
      "14                               0                     0   \n",
      "15                               0                     0   \n",
      "16                               0                     0   \n",
      "...                            ...                   ...   \n",
      "1000492                          0                     0   \n",
      "1002185                          0                     0   \n",
      "1010581                          0                     0   \n",
      "1026227                          0                     0   \n",
      "1139087                          0                     0   \n",
      "\n",
      "         Makoto Shinkai as real  Quentin Tarantino as real  ...  \\\n",
      "11                            0                          0  ...   \n",
      "13                            0                          0  ...   \n",
      "14                            0                          0  ...   \n",
      "15                            0                          0  ...   \n",
      "16                            0                          0  ...   \n",
      "...                         ...                        ...  ...   \n",
      "1000492                       0                          0  ...   \n",
      "1002185                       0                          0  ...   \n",
      "1010581                       0                          0  ...   \n",
      "1026227                       0                          0  ...   \n",
      "1139087                       0                          0  ...   \n",
      "\n",
      "         Peter Bogdanovich as real  Kim Ki-duk as real  \\\n",
      "11                               0                   0   \n",
      "13                               0                   0   \n",
      "14                               0                   0   \n",
      "15                               0                   0   \n",
      "16                               0                   0   \n",
      "...                            ...                 ...   \n",
      "1000492                          0                   0   \n",
      "1002185                          0                   0   \n",
      "1010581                          0                   0   \n",
      "1026227                          0                   0   \n",
      "1139087                          0                   0   \n",
      "\n",
      "         Matteo Garrone as real  Patrick Imbert as real  Luis Estrada as real  \\\n",
      "11                            0                       0                     0   \n",
      "13                            0                       0                     0   \n",
      "14                            0                       0                     0   \n",
      "15                            0                       0                     0   \n",
      "16                            0                       0                     0   \n",
      "...                         ...                     ...                   ...   \n",
      "1000492                       0                       0                     0   \n",
      "1002185                       0                       0                     0   \n",
      "1010581                       0                       0                     0   \n",
      "1026227                       0                       0                     0   \n",
      "1139087                       0                       0                     0   \n",
      "\n",
      "         Nora Twomey as real  Adam Elliot as real  Kevin Costner as real  \\\n",
      "11                         0                    0                      0   \n",
      "13                         0                    0                      0   \n",
      "14                         0                    0                      0   \n",
      "15                         0                    0                      0   \n",
      "16                         0                    0                      0   \n",
      "...                      ...                  ...                    ...   \n",
      "1000492                    0                    0                      0   \n",
      "1002185                    0                    0                      0   \n",
      "1010581                    0                    0                      0   \n",
      "1026227                    0                    0                      0   \n",
      "1139087                    0                    0                      0   \n",
      "\n",
      "         Rian Johnson as real  Franklin J. Schaffner as real  \n",
      "11                          0                              0  \n",
      "13                          0                              0  \n",
      "14                          0                              0  \n",
      "15                          0                              0  \n",
      "16                          0                              0  \n",
      "...                       ...                            ...  \n",
      "1000492                     0                              0  \n",
      "1002185                     0                              0  \n",
      "1010581                     0                              0  \n",
      "1026227                     0                              0  \n",
      "1139087                     0                              0  \n",
      "\n",
      "[500 rows x 388 columns]\n"
     ]
    }
   ],
   "source": [
    "print(real_matrix)"
   ]
  },
  {
   "cell_type": "code",
   "execution_count": 37,
   "metadata": {},
   "outputs": [],
   "source": [
    "df_real_actors = actor_matrix.join(real_matrix)\n",
    "\n",
    "df_real_actors.to_csv('../data/clean_datas/real_actors.csv', index=False)"
   ]
  },
  {
   "cell_type": "code",
   "execution_count": 38,
   "metadata": {},
   "outputs": [
    {
     "name": "stdout",
     "output_type": "stream",
     "text": [
      "         Tim Robbins  Morgan Freeman  Bob Gunton  William Sadler  \\\n",
      "11                 0               0           0               0   \n",
      "13                 0               0           0               0   \n",
      "14                 0               0           0               0   \n",
      "15                 0               0           0               0   \n",
      "16                 0               0           0               0   \n",
      "...              ...             ...         ...             ...   \n",
      "1000492            0               0           0               0   \n",
      "1002185            0               0           0               0   \n",
      "1010581            0               0           0               0   \n",
      "1026227            0               0           0               0   \n",
      "1139087            0               0           0               0   \n",
      "\n",
      "         Clancy Brown  Gil Bellows  James Whitmore  Mark Rolston  \\\n",
      "11                  0            0               0             0   \n",
      "13                  0            0               0             0   \n",
      "14                  0            0               0             0   \n",
      "15                  0            0               0             0   \n",
      "16                  0            0               0             0   \n",
      "...               ...          ...             ...           ...   \n",
      "1000492             0            0               0             0   \n",
      "1002185             0            0               0             0   \n",
      "1010581             0            0               0             0   \n",
      "1026227             0            0               0             0   \n",
      "1139087             0            0               0             0   \n",
      "\n",
      "         Jeffrey DeMunn  Larry Brandenburg  ...  Peter Bogdanovich as real  \\\n",
      "11                    0                  0  ...                          0   \n",
      "13                    0                  0  ...                          0   \n",
      "14                    0                  0  ...                          0   \n",
      "15                    0                  0  ...                          0   \n",
      "16                    0                  0  ...                          0   \n",
      "...                 ...                ...  ...                        ...   \n",
      "1000492               0                  0  ...                          0   \n",
      "1002185               0                  0  ...                          0   \n",
      "1010581               0                  0  ...                          0   \n",
      "1026227               0                  0  ...                          0   \n",
      "1139087               0                  0  ...                          0   \n",
      "\n",
      "         Kim Ki-duk as real  Matteo Garrone as real  Patrick Imbert as real  \\\n",
      "11                        0                       0                       0   \n",
      "13                        0                       0                       0   \n",
      "14                        0                       0                       0   \n",
      "15                        0                       0                       0   \n",
      "16                        0                       0                       0   \n",
      "...                     ...                     ...                     ...   \n",
      "1000492                   0                       0                       0   \n",
      "1002185                   0                       0                       0   \n",
      "1010581                   0                       0                       0   \n",
      "1026227                   0                       0                       0   \n",
      "1139087                   0                       0                       0   \n",
      "\n",
      "         Luis Estrada as real  Nora Twomey as real  Adam Elliot as real  \\\n",
      "11                          0                    0                    0   \n",
      "13                          0                    0                    0   \n",
      "14                          0                    0                    0   \n",
      "15                          0                    0                    0   \n",
      "16                          0                    0                    0   \n",
      "...                       ...                  ...                  ...   \n",
      "1000492                     0                    0                    0   \n",
      "1002185                     0                    0                    0   \n",
      "1010581                     0                    0                    0   \n",
      "1026227                     0                    0                    0   \n",
      "1139087                     0                    0                    0   \n",
      "\n",
      "         Kevin Costner as real  Rian Johnson as real  \\\n",
      "11                           0                     0   \n",
      "13                           0                     0   \n",
      "14                           0                     0   \n",
      "15                           0                     0   \n",
      "16                           0                     0   \n",
      "...                        ...                   ...   \n",
      "1000492                      0                     0   \n",
      "1002185                      0                     0   \n",
      "1010581                      0                     0   \n",
      "1026227                      0                     0   \n",
      "1139087                      0                     0   \n",
      "\n",
      "         Franklin J. Schaffner as real  \n",
      "11                                   0  \n",
      "13                                   0  \n",
      "14                                   0  \n",
      "15                                   0  \n",
      "16                                   0  \n",
      "...                                ...  \n",
      "1000492                              0  \n",
      "1002185                              0  \n",
      "1010581                              0  \n",
      "1026227                              0  \n",
      "1139087                              0  \n",
      "\n",
      "[497 rows x 17743 columns]\n"
     ]
    }
   ],
   "source": [
    "print(df_real_actors)"
   ]
  },
  {
   "cell_type": "markdown",
   "metadata": {},
   "source": [
    "# merged"
   ]
  },
  {
   "cell_type": "code",
   "execution_count": 39,
   "metadata": {},
   "outputs": [],
   "source": [
    "df_tfidf = pd.DataFrame(tfidf_matrix.toarray(), columns=tags, index=df_movies[\"id\"])\n",
    "df_tfidf = df_tfidf.set_index(df_tfidf.index.astype(int)).sort_index()\n",
    "\n",
    "df_merged = (df_tfidf != 0).astype(int).join(actor_matrix).join(real_matrix)\n",
    "df_merged = df_merged.fillna(0)"
   ]
  }
 ],
 "metadata": {
  "kernelspec": {
   "display_name": "Python 3",
   "language": "python",
   "name": "python3"
  },
  "language_info": {
   "codemirror_mode": {
    "name": "ipython",
    "version": 3
   },
   "file_extension": ".py",
   "mimetype": "text/x-python",
   "name": "python",
   "nbconvert_exporter": "python",
   "pygments_lexer": "ipython3",
   "version": "3.10.8"
  }
 },
 "nbformat": 4,
 "nbformat_minor": 2
}
