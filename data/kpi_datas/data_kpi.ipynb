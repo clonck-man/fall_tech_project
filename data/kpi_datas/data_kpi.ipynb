{
 "cells": [
  {
   "cell_type": "code",
   "execution_count": 11,
   "metadata": {},
   "outputs": [],
   "source": [
    "import pandas as pd\n",
    "import matplotlib.pyplot as plt"
   ]
  },
  {
   "cell_type": "code",
   "execution_count": 12,
   "metadata": {},
   "outputs": [],
   "source": [
    "def plot_likes_by_label(df):\n",
    "    likes_by_label = df.groupby(['Label', 'Liked']).size().unstack(fill_value=0)\n",
    "    likes_by_label = likes_by_label.drop('1', axis=1).drop('2')\n",
    "    likes_by_label.columns = ['Label', 'Liked']\n",
    "\n",
    "    print(likes_by_label)\n",
    "\n",
    "    likes_by_label.plot(kind='bar', stacked=True)\n",
    "    plt.xlabel('Label')\n",
    "    plt.ylabel('Nombre de films')\n",
    "    plt.title('Nombre de films appréciés et non appréciés par label')\n",
    "    plt.legend(['Non apprécié', 'Apprécié'], loc='upper right')\n",
    "    plt.show()"
   ]
  },
  {
   "cell_type": "code",
   "execution_count": 13,
   "metadata": {},
   "outputs": [
    {
     "name": "stdout",
     "output_type": "stream",
     "text": [
      "        ID Liked   Label\n",
      "0        0     1       2\n",
      "1   610150  True  random\n",
      "2      129  True  random\n",
      "3   324857  True     tag\n",
      "4      120  True     tag\n",
      "5   618344  True  random\n",
      "6   378064  True     tag\n",
      "7   476292  True     tag\n",
      "8      128  True     tag\n",
      "9   568160  True     tag\n",
      "10  610892  True     tag\n",
      "11  503314  True     tag\n",
      "12   18438  True     tag\n",
      "13  283566  True     tag\n",
      "14  533514  True  random\n",
      "15  315465  True     tag\n",
      "16  372754  True     tag\n",
      "17   92321  True  random\n",
      "18   11659  True  random\n",
      "19    1059  True  random\n",
      "20  437068  True     tag\n",
      "21  664767  True     tag\n",
      "22  820067  True     tag\n",
      "23  916224  True     tag\n",
      "24    4935  True  random\n",
      "25  505192  True     tag\n"
     ]
    }
   ],
   "source": [
    "df = pd.read_csv(\"recommandation_results.csv\", header=None, names=['ID', 'Liked', 'Label'])\n",
    "\n",
    "print(df)"
   ]
  },
  {
   "cell_type": "code",
   "execution_count": 16,
   "metadata": {},
   "outputs": [
    {
     "name": "stdout",
     "output_type": "stream",
     "text": [
      "        Label  Liked\n",
      "Label               \n",
      "random      1      8\n",
      "tag         1     17\n"
     ]
    },
    {
     "data": {
      "image/png": "[encoded data removed]",
      "text/plain": [
       "<Figure size 640x480 with 1 Axes>"
      ]
     },
     "metadata": {},
     "output_type": "display_data"
    }
   ],
   "source": [
    "plot_likes_by_label(df)"
   ]
  },
  {
   "cell_type": "markdown",
   "metadata": {},
   "source": [
    "# if no False Datas"
   ]
  },
  {
   "cell_type": "code",
   "execution_count": 14,
   "metadata": {},
   "outputs": [
    {
     "data": {
      "text/html": [
       "<div>\n",
       "<style scoped>\n",
       "    .dataframe tbody tr th:only-of-type {\n",
       "        vertical-align: middle;\n",
       "    }\n",
       "\n",
       "    .dataframe tbody tr th {\n",
       "        vertical-align: top;\n",
       "    }\n",
       "\n",
       "    .dataframe thead th {\n",
       "        text-align: right;\n",
       "    }\n",
       "</style>\n",
       "<table border=\"1\" class=\"dataframe\">\n",
       "  <thead>\n",
       "    <tr style=\"text-align: right;\">\n",
       "      <th></th>\n",
       "      <th>ID</th>\n",
       "      <th>Liked</th>\n",
       "      <th>Label</th>\n",
       "    </tr>\n",
       "  </thead>\n",
       "  <tbody>\n",
       "    <tr>\n",
       "      <th>0</th>\n",
       "      <td>0</td>\n",
       "      <td>False</td>\n",
       "      <td>random</td>\n",
       "    </tr>\n",
       "    <tr>\n",
       "      <th>1</th>\n",
       "      <td>0</td>\n",
       "      <td>False</td>\n",
       "      <td>tag</td>\n",
       "    </tr>\n",
       "  </tbody>\n",
       "</table>\n",
       "</div>"
      ],
      "text/plain": [
       "   ID  Liked   Label\n",
       "0   0  False  random\n",
       "1   0  False     tag"
      ]
     },
     "execution_count": 14,
     "metadata": {},
     "output_type": "execute_result"
    }
   ],
   "source": [
    "nouvelles_lignes = [{'ID': 0, 'Liked': False, 'Label': 'random'},\n",
    "                   {'ID': 0, 'Liked': False, 'Label': 'tag'}]\n",
    "\n",
    "new_rows = pd.DataFrame(nouvelles_lignes)\n",
    "\n",
    "new_rows"
   ]
  },
  {
   "cell_type": "code",
   "execution_count": 15,
   "metadata": {},
   "outputs": [],
   "source": [
    "df = pd.concat([df, new_rows])"
   ]
  }
 ],
 "metadata": {
  "kernelspec": {
   "display_name": "Python 3",
   "language": "python",
   "name": "python3"
  },
  "language_info": {
   "codemirror_mode": {
    "name": "ipython",
    "version": 3
   },
   "file_extension": ".py",
   "mimetype": "text/x-python",
   "name": "python",
   "nbconvert_exporter": "python",
   "pygments_lexer": "ipython3",
   "version": "3.10.8"
  }
 },
 "nbformat": 4,
 "nbformat_minor": 2
}
